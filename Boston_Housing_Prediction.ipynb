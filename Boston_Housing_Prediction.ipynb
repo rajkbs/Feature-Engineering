{
  "nbformat": 4,
  "nbformat_minor": 0,
  "metadata": {
    "colab": {
      "name": "Boston Housing Prediction.ipynb",
      "provenance": [],
      "authorship_tag": "ABX9TyNqLRlBd7P6DCpHu08ioc+6",
      "include_colab_link": true
    },
    "kernelspec": {
      "name": "python3",
      "display_name": "Python 3"
    },
    "language_info": {
      "name": "python"
    }
  },
  "cells": [
    {
      "cell_type": "markdown",
      "metadata": {
        "id": "view-in-github",
        "colab_type": "text"
      },
      "source": [
        "<a href=\"https://colab.research.google.com/github/rajkbs/Machine-Learning/blob/master/Boston_Housing_Prediction.ipynb\" target=\"_parent\"><img src=\"https://colab.research.google.com/assets/colab-badge.svg\" alt=\"Open In Colab\"/></a>"
      ]
    },
    {
      "cell_type": "markdown",
      "metadata": {
        "id": "341ZCcmrB2md"
      },
      "source": [
        "## **Boston Housing Prediction**\n",
        "\n",
        "1. Linear Regression\n",
        "2. XBGRegressor"
      ]
    },
    {
      "cell_type": "markdown",
      "metadata": {
        "id": "imvUAYy6CJoP"
      },
      "source": [
        "Loading of Library files\n"
      ]
    },
    {
      "cell_type": "code",
      "metadata": {
        "id": "qFEN8t4mCOwC"
      },
      "source": [
        "import numpy as np\n",
        "import pandas as pd\n",
        "import matplotlib.pyplot as plt\n",
        "import seaborn as sns\n",
        "import sklearn.datasets\n",
        "from sklearn.linear_model import LinearRegression\n",
        "from xgboost import XGBRegressor\n",
        "from sklearn.model_selection import train_test_split \n",
        "from sklearn import metrics"
      ],
      "execution_count": 1,
      "outputs": []
    },
    {
      "cell_type": "markdown",
      "metadata": {
        "id": "saH4tzj0EAoV"
      },
      "source": [
        "Importing the Boston House Dataset"
      ]
    },
    {
      "cell_type": "code",
      "metadata": {
        "id": "ucO4BfStEFv_"
      },
      "source": [
        "house_price_data = sklearn.datasets.load_boston()"
      ],
      "execution_count": 2,
      "outputs": []
    },
    {
      "cell_type": "code",
      "metadata": {
        "colab": {
          "base_uri": "https://localhost:8080/"
        },
        "id": "RLo3HUxsEPwC",
        "outputId": "ceeebfbf-1e19-4114-b47f-0a02d85d8613"
      },
      "source": [
        "print(house_price_data)"
      ],
      "execution_count": 3,
      "outputs": [
        {
          "output_type": "stream",
          "name": "stdout",
          "text": [
            "{'data': array([[6.3200e-03, 1.8000e+01, 2.3100e+00, ..., 1.5300e+01, 3.9690e+02,\n",
            "        4.9800e+00],\n",
            "       [2.7310e-02, 0.0000e+00, 7.0700e+00, ..., 1.7800e+01, 3.9690e+02,\n",
            "        9.1400e+00],\n",
            "       [2.7290e-02, 0.0000e+00, 7.0700e+00, ..., 1.7800e+01, 3.9283e+02,\n",
            "        4.0300e+00],\n",
            "       ...,\n",
            "       [6.0760e-02, 0.0000e+00, 1.1930e+01, ..., 2.1000e+01, 3.9690e+02,\n",
            "        5.6400e+00],\n",
            "       [1.0959e-01, 0.0000e+00, 1.1930e+01, ..., 2.1000e+01, 3.9345e+02,\n",
            "        6.4800e+00],\n",
            "       [4.7410e-02, 0.0000e+00, 1.1930e+01, ..., 2.1000e+01, 3.9690e+02,\n",
            "        7.8800e+00]]), 'target': array([24. , 21.6, 34.7, 33.4, 36.2, 28.7, 22.9, 27.1, 16.5, 18.9, 15. ,\n",
            "       18.9, 21.7, 20.4, 18.2, 19.9, 23.1, 17.5, 20.2, 18.2, 13.6, 19.6,\n",
            "       15.2, 14.5, 15.6, 13.9, 16.6, 14.8, 18.4, 21. , 12.7, 14.5, 13.2,\n",
            "       13.1, 13.5, 18.9, 20. , 21. , 24.7, 30.8, 34.9, 26.6, 25.3, 24.7,\n",
            "       21.2, 19.3, 20. , 16.6, 14.4, 19.4, 19.7, 20.5, 25. , 23.4, 18.9,\n",
            "       35.4, 24.7, 31.6, 23.3, 19.6, 18.7, 16. , 22.2, 25. , 33. , 23.5,\n",
            "       19.4, 22. , 17.4, 20.9, 24.2, 21.7, 22.8, 23.4, 24.1, 21.4, 20. ,\n",
            "       20.8, 21.2, 20.3, 28. , 23.9, 24.8, 22.9, 23.9, 26.6, 22.5, 22.2,\n",
            "       23.6, 28.7, 22.6, 22. , 22.9, 25. , 20.6, 28.4, 21.4, 38.7, 43.8,\n",
            "       33.2, 27.5, 26.5, 18.6, 19.3, 20.1, 19.5, 19.5, 20.4, 19.8, 19.4,\n",
            "       21.7, 22.8, 18.8, 18.7, 18.5, 18.3, 21.2, 19.2, 20.4, 19.3, 22. ,\n",
            "       20.3, 20.5, 17.3, 18.8, 21.4, 15.7, 16.2, 18. , 14.3, 19.2, 19.6,\n",
            "       23. , 18.4, 15.6, 18.1, 17.4, 17.1, 13.3, 17.8, 14. , 14.4, 13.4,\n",
            "       15.6, 11.8, 13.8, 15.6, 14.6, 17.8, 15.4, 21.5, 19.6, 15.3, 19.4,\n",
            "       17. , 15.6, 13.1, 41.3, 24.3, 23.3, 27. , 50. , 50. , 50. , 22.7,\n",
            "       25. , 50. , 23.8, 23.8, 22.3, 17.4, 19.1, 23.1, 23.6, 22.6, 29.4,\n",
            "       23.2, 24.6, 29.9, 37.2, 39.8, 36.2, 37.9, 32.5, 26.4, 29.6, 50. ,\n",
            "       32. , 29.8, 34.9, 37. , 30.5, 36.4, 31.1, 29.1, 50. , 33.3, 30.3,\n",
            "       34.6, 34.9, 32.9, 24.1, 42.3, 48.5, 50. , 22.6, 24.4, 22.5, 24.4,\n",
            "       20. , 21.7, 19.3, 22.4, 28.1, 23.7, 25. , 23.3, 28.7, 21.5, 23. ,\n",
            "       26.7, 21.7, 27.5, 30.1, 44.8, 50. , 37.6, 31.6, 46.7, 31.5, 24.3,\n",
            "       31.7, 41.7, 48.3, 29. , 24. , 25.1, 31.5, 23.7, 23.3, 22. , 20.1,\n",
            "       22.2, 23.7, 17.6, 18.5, 24.3, 20.5, 24.5, 26.2, 24.4, 24.8, 29.6,\n",
            "       42.8, 21.9, 20.9, 44. , 50. , 36. , 30.1, 33.8, 43.1, 48.8, 31. ,\n",
            "       36.5, 22.8, 30.7, 50. , 43.5, 20.7, 21.1, 25.2, 24.4, 35.2, 32.4,\n",
            "       32. , 33.2, 33.1, 29.1, 35.1, 45.4, 35.4, 46. , 50. , 32.2, 22. ,\n",
            "       20.1, 23.2, 22.3, 24.8, 28.5, 37.3, 27.9, 23.9, 21.7, 28.6, 27.1,\n",
            "       20.3, 22.5, 29. , 24.8, 22. , 26.4, 33.1, 36.1, 28.4, 33.4, 28.2,\n",
            "       22.8, 20.3, 16.1, 22.1, 19.4, 21.6, 23.8, 16.2, 17.8, 19.8, 23.1,\n",
            "       21. , 23.8, 23.1, 20.4, 18.5, 25. , 24.6, 23. , 22.2, 19.3, 22.6,\n",
            "       19.8, 17.1, 19.4, 22.2, 20.7, 21.1, 19.5, 18.5, 20.6, 19. , 18.7,\n",
            "       32.7, 16.5, 23.9, 31.2, 17.5, 17.2, 23.1, 24.5, 26.6, 22.9, 24.1,\n",
            "       18.6, 30.1, 18.2, 20.6, 17.8, 21.7, 22.7, 22.6, 25. , 19.9, 20.8,\n",
            "       16.8, 21.9, 27.5, 21.9, 23.1, 50. , 50. , 50. , 50. , 50. , 13.8,\n",
            "       13.8, 15. , 13.9, 13.3, 13.1, 10.2, 10.4, 10.9, 11.3, 12.3,  8.8,\n",
            "        7.2, 10.5,  7.4, 10.2, 11.5, 15.1, 23.2,  9.7, 13.8, 12.7, 13.1,\n",
            "       12.5,  8.5,  5. ,  6.3,  5.6,  7.2, 12.1,  8.3,  8.5,  5. , 11.9,\n",
            "       27.9, 17.2, 27.5, 15. , 17.2, 17.9, 16.3,  7. ,  7.2,  7.5, 10.4,\n",
            "        8.8,  8.4, 16.7, 14.2, 20.8, 13.4, 11.7,  8.3, 10.2, 10.9, 11. ,\n",
            "        9.5, 14.5, 14.1, 16.1, 14.3, 11.7, 13.4,  9.6,  8.7,  8.4, 12.8,\n",
            "       10.5, 17.1, 18.4, 15.4, 10.8, 11.8, 14.9, 12.6, 14.1, 13. , 13.4,\n",
            "       15.2, 16.1, 17.8, 14.9, 14.1, 12.7, 13.5, 14.9, 20. , 16.4, 17.7,\n",
            "       19.5, 20.2, 21.4, 19.9, 19. , 19.1, 19.1, 20.1, 19.9, 19.6, 23.2,\n",
            "       29.8, 13.8, 13.3, 16.7, 12. , 14.6, 21.4, 23. , 23.7, 25. , 21.8,\n",
            "       20.6, 21.2, 19.1, 20.6, 15.2,  7. ,  8.1, 13.6, 20.1, 21.8, 24.5,\n",
            "       23.1, 19.7, 18.3, 21.2, 17.5, 16.8, 22.4, 20.6, 23.9, 22. , 11.9]), 'feature_names': array(['CRIM', 'ZN', 'INDUS', 'CHAS', 'NOX', 'RM', 'AGE', 'DIS', 'RAD',\n",
            "       'TAX', 'PTRATIO', 'B', 'LSTAT'], dtype='<U7'), 'DESCR': \".. _boston_dataset:\\n\\nBoston house prices dataset\\n---------------------------\\n\\n**Data Set Characteristics:**  \\n\\n    :Number of Instances: 506 \\n\\n    :Number of Attributes: 13 numeric/categorical predictive. Median Value (attribute 14) is usually the target.\\n\\n    :Attribute Information (in order):\\n        - CRIM     per capita crime rate by town\\n        - ZN       proportion of residential land zoned for lots over 25,000 sq.ft.\\n        - INDUS    proportion of non-retail business acres per town\\n        - CHAS     Charles River dummy variable (= 1 if tract bounds river; 0 otherwise)\\n        - NOX      nitric oxides concentration (parts per 10 million)\\n        - RM       average number of rooms per dwelling\\n        - AGE      proportion of owner-occupied units built prior to 1940\\n        - DIS      weighted distances to five Boston employment centres\\n        - RAD      index of accessibility to radial highways\\n        - TAX      full-value property-tax rate per $10,000\\n        - PTRATIO  pupil-teacher ratio by town\\n        - B        1000(Bk - 0.63)^2 where Bk is the proportion of blacks by town\\n        - LSTAT    % lower status of the population\\n        - MEDV     Median value of owner-occupied homes in $1000's\\n\\n    :Missing Attribute Values: None\\n\\n    :Creator: Harrison, D. and Rubinfeld, D.L.\\n\\nThis is a copy of UCI ML housing dataset.\\nhttps://archive.ics.uci.edu/ml/machine-learning-databases/housing/\\n\\n\\nThis dataset was taken from the StatLib library which is maintained at Carnegie Mellon University.\\n\\nThe Boston house-price data of Harrison, D. and Rubinfeld, D.L. 'Hedonic\\nprices and the demand for clean air', J. Environ. Economics & Management,\\nvol.5, 81-102, 1978.   Used in Belsley, Kuh & Welsch, 'Regression diagnostics\\n...', Wiley, 1980.   N.B. Various transformations are used in the table on\\npages 244-261 of the latter.\\n\\nThe Boston house-price data has been used in many machine learning papers that address regression\\nproblems.   \\n     \\n.. topic:: References\\n\\n   - Belsley, Kuh & Welsch, 'Regression diagnostics: Identifying Influential Data and Sources of Collinearity', Wiley, 1980. 244-261.\\n   - Quinlan,R. (1993). Combining Instance-Based and Model-Based Learning. In Proceedings on the Tenth International Conference of Machine Learning, 236-243, University of Massachusetts, Amherst. Morgan Kaufmann.\\n\", 'filename': '/usr/local/lib/python3.7/dist-packages/sklearn/datasets/data/boston_house_prices.csv'}\n"
          ]
        }
      ]
    },
    {
      "cell_type": "code",
      "metadata": {
        "id": "RBoiORiHE7Hd"
      },
      "source": [
        "# Creating data frame\n",
        "\n",
        "house_df = pd.DataFrame(house_price_data.data, columns = house_price_data.feature_names)"
      ],
      "execution_count": 4,
      "outputs": []
    },
    {
      "cell_type": "code",
      "metadata": {
        "colab": {
          "base_uri": "https://localhost:8080/",
          "height": 206
        },
        "id": "VkjtFtCIFuhP",
        "outputId": "95d38d77-75fa-43eb-d526-af0c64d7072c"
      },
      "source": [
        "house_df.head()"
      ],
      "execution_count": 5,
      "outputs": [
        {
          "output_type": "execute_result",
          "data": {
            "text/html": [
              "<div>\n",
              "<style scoped>\n",
              "    .dataframe tbody tr th:only-of-type {\n",
              "        vertical-align: middle;\n",
              "    }\n",
              "\n",
              "    .dataframe tbody tr th {\n",
              "        vertical-align: top;\n",
              "    }\n",
              "\n",
              "    .dataframe thead th {\n",
              "        text-align: right;\n",
              "    }\n",
              "</style>\n",
              "<table border=\"1\" class=\"dataframe\">\n",
              "  <thead>\n",
              "    <tr style=\"text-align: right;\">\n",
              "      <th></th>\n",
              "      <th>CRIM</th>\n",
              "      <th>ZN</th>\n",
              "      <th>INDUS</th>\n",
              "      <th>CHAS</th>\n",
              "      <th>NOX</th>\n",
              "      <th>RM</th>\n",
              "      <th>AGE</th>\n",
              "      <th>DIS</th>\n",
              "      <th>RAD</th>\n",
              "      <th>TAX</th>\n",
              "      <th>PTRATIO</th>\n",
              "      <th>B</th>\n",
              "      <th>LSTAT</th>\n",
              "    </tr>\n",
              "  </thead>\n",
              "  <tbody>\n",
              "    <tr>\n",
              "      <th>0</th>\n",
              "      <td>0.00632</td>\n",
              "      <td>18.0</td>\n",
              "      <td>2.31</td>\n",
              "      <td>0.0</td>\n",
              "      <td>0.538</td>\n",
              "      <td>6.575</td>\n",
              "      <td>65.2</td>\n",
              "      <td>4.0900</td>\n",
              "      <td>1.0</td>\n",
              "      <td>296.0</td>\n",
              "      <td>15.3</td>\n",
              "      <td>396.90</td>\n",
              "      <td>4.98</td>\n",
              "    </tr>\n",
              "    <tr>\n",
              "      <th>1</th>\n",
              "      <td>0.02731</td>\n",
              "      <td>0.0</td>\n",
              "      <td>7.07</td>\n",
              "      <td>0.0</td>\n",
              "      <td>0.469</td>\n",
              "      <td>6.421</td>\n",
              "      <td>78.9</td>\n",
              "      <td>4.9671</td>\n",
              "      <td>2.0</td>\n",
              "      <td>242.0</td>\n",
              "      <td>17.8</td>\n",
              "      <td>396.90</td>\n",
              "      <td>9.14</td>\n",
              "    </tr>\n",
              "    <tr>\n",
              "      <th>2</th>\n",
              "      <td>0.02729</td>\n",
              "      <td>0.0</td>\n",
              "      <td>7.07</td>\n",
              "      <td>0.0</td>\n",
              "      <td>0.469</td>\n",
              "      <td>7.185</td>\n",
              "      <td>61.1</td>\n",
              "      <td>4.9671</td>\n",
              "      <td>2.0</td>\n",
              "      <td>242.0</td>\n",
              "      <td>17.8</td>\n",
              "      <td>392.83</td>\n",
              "      <td>4.03</td>\n",
              "    </tr>\n",
              "    <tr>\n",
              "      <th>3</th>\n",
              "      <td>0.03237</td>\n",
              "      <td>0.0</td>\n",
              "      <td>2.18</td>\n",
              "      <td>0.0</td>\n",
              "      <td>0.458</td>\n",
              "      <td>6.998</td>\n",
              "      <td>45.8</td>\n",
              "      <td>6.0622</td>\n",
              "      <td>3.0</td>\n",
              "      <td>222.0</td>\n",
              "      <td>18.7</td>\n",
              "      <td>394.63</td>\n",
              "      <td>2.94</td>\n",
              "    </tr>\n",
              "    <tr>\n",
              "      <th>4</th>\n",
              "      <td>0.06905</td>\n",
              "      <td>0.0</td>\n",
              "      <td>2.18</td>\n",
              "      <td>0.0</td>\n",
              "      <td>0.458</td>\n",
              "      <td>7.147</td>\n",
              "      <td>54.2</td>\n",
              "      <td>6.0622</td>\n",
              "      <td>3.0</td>\n",
              "      <td>222.0</td>\n",
              "      <td>18.7</td>\n",
              "      <td>396.90</td>\n",
              "      <td>5.33</td>\n",
              "    </tr>\n",
              "  </tbody>\n",
              "</table>\n",
              "</div>"
            ],
            "text/plain": [
              "      CRIM    ZN  INDUS  CHAS    NOX  ...  RAD    TAX  PTRATIO       B  LSTAT\n",
              "0  0.00632  18.0   2.31   0.0  0.538  ...  1.0  296.0     15.3  396.90   4.98\n",
              "1  0.02731   0.0   7.07   0.0  0.469  ...  2.0  242.0     17.8  396.90   9.14\n",
              "2  0.02729   0.0   7.07   0.0  0.469  ...  2.0  242.0     17.8  392.83   4.03\n",
              "3  0.03237   0.0   2.18   0.0  0.458  ...  3.0  222.0     18.7  394.63   2.94\n",
              "4  0.06905   0.0   2.18   0.0  0.458  ...  3.0  222.0     18.7  396.90   5.33\n",
              "\n",
              "[5 rows x 13 columns]"
            ]
          },
          "metadata": {},
          "execution_count": 5
        }
      ]
    },
    {
      "cell_type": "code",
      "metadata": {
        "id": "tKU1BZIVFxVt"
      },
      "source": [
        "house_df['PRICE'] = house_price_data.target"
      ],
      "execution_count": 6,
      "outputs": []
    },
    {
      "cell_type": "code",
      "metadata": {
        "colab": {
          "base_uri": "https://localhost:8080/",
          "height": 206
        },
        "id": "0ef1HCXaGB91",
        "outputId": "c832dc3b-72ff-4f10-cae8-dcfed068e1e6"
      },
      "source": [
        "house_df.head()"
      ],
      "execution_count": 7,
      "outputs": [
        {
          "output_type": "execute_result",
          "data": {
            "text/html": [
              "<div>\n",
              "<style scoped>\n",
              "    .dataframe tbody tr th:only-of-type {\n",
              "        vertical-align: middle;\n",
              "    }\n",
              "\n",
              "    .dataframe tbody tr th {\n",
              "        vertical-align: top;\n",
              "    }\n",
              "\n",
              "    .dataframe thead th {\n",
              "        text-align: right;\n",
              "    }\n",
              "</style>\n",
              "<table border=\"1\" class=\"dataframe\">\n",
              "  <thead>\n",
              "    <tr style=\"text-align: right;\">\n",
              "      <th></th>\n",
              "      <th>CRIM</th>\n",
              "      <th>ZN</th>\n",
              "      <th>INDUS</th>\n",
              "      <th>CHAS</th>\n",
              "      <th>NOX</th>\n",
              "      <th>RM</th>\n",
              "      <th>AGE</th>\n",
              "      <th>DIS</th>\n",
              "      <th>RAD</th>\n",
              "      <th>TAX</th>\n",
              "      <th>PTRATIO</th>\n",
              "      <th>B</th>\n",
              "      <th>LSTAT</th>\n",
              "      <th>PRICE</th>\n",
              "    </tr>\n",
              "  </thead>\n",
              "  <tbody>\n",
              "    <tr>\n",
              "      <th>0</th>\n",
              "      <td>0.00632</td>\n",
              "      <td>18.0</td>\n",
              "      <td>2.31</td>\n",
              "      <td>0.0</td>\n",
              "      <td>0.538</td>\n",
              "      <td>6.575</td>\n",
              "      <td>65.2</td>\n",
              "      <td>4.0900</td>\n",
              "      <td>1.0</td>\n",
              "      <td>296.0</td>\n",
              "      <td>15.3</td>\n",
              "      <td>396.90</td>\n",
              "      <td>4.98</td>\n",
              "      <td>24.0</td>\n",
              "    </tr>\n",
              "    <tr>\n",
              "      <th>1</th>\n",
              "      <td>0.02731</td>\n",
              "      <td>0.0</td>\n",
              "      <td>7.07</td>\n",
              "      <td>0.0</td>\n",
              "      <td>0.469</td>\n",
              "      <td>6.421</td>\n",
              "      <td>78.9</td>\n",
              "      <td>4.9671</td>\n",
              "      <td>2.0</td>\n",
              "      <td>242.0</td>\n",
              "      <td>17.8</td>\n",
              "      <td>396.90</td>\n",
              "      <td>9.14</td>\n",
              "      <td>21.6</td>\n",
              "    </tr>\n",
              "    <tr>\n",
              "      <th>2</th>\n",
              "      <td>0.02729</td>\n",
              "      <td>0.0</td>\n",
              "      <td>7.07</td>\n",
              "      <td>0.0</td>\n",
              "      <td>0.469</td>\n",
              "      <td>7.185</td>\n",
              "      <td>61.1</td>\n",
              "      <td>4.9671</td>\n",
              "      <td>2.0</td>\n",
              "      <td>242.0</td>\n",
              "      <td>17.8</td>\n",
              "      <td>392.83</td>\n",
              "      <td>4.03</td>\n",
              "      <td>34.7</td>\n",
              "    </tr>\n",
              "    <tr>\n",
              "      <th>3</th>\n",
              "      <td>0.03237</td>\n",
              "      <td>0.0</td>\n",
              "      <td>2.18</td>\n",
              "      <td>0.0</td>\n",
              "      <td>0.458</td>\n",
              "      <td>6.998</td>\n",
              "      <td>45.8</td>\n",
              "      <td>6.0622</td>\n",
              "      <td>3.0</td>\n",
              "      <td>222.0</td>\n",
              "      <td>18.7</td>\n",
              "      <td>394.63</td>\n",
              "      <td>2.94</td>\n",
              "      <td>33.4</td>\n",
              "    </tr>\n",
              "    <tr>\n",
              "      <th>4</th>\n",
              "      <td>0.06905</td>\n",
              "      <td>0.0</td>\n",
              "      <td>2.18</td>\n",
              "      <td>0.0</td>\n",
              "      <td>0.458</td>\n",
              "      <td>7.147</td>\n",
              "      <td>54.2</td>\n",
              "      <td>6.0622</td>\n",
              "      <td>3.0</td>\n",
              "      <td>222.0</td>\n",
              "      <td>18.7</td>\n",
              "      <td>396.90</td>\n",
              "      <td>5.33</td>\n",
              "      <td>36.2</td>\n",
              "    </tr>\n",
              "  </tbody>\n",
              "</table>\n",
              "</div>"
            ],
            "text/plain": [
              "      CRIM    ZN  INDUS  CHAS    NOX  ...    TAX  PTRATIO       B  LSTAT  PRICE\n",
              "0  0.00632  18.0   2.31   0.0  0.538  ...  296.0     15.3  396.90   4.98   24.0\n",
              "1  0.02731   0.0   7.07   0.0  0.469  ...  242.0     17.8  396.90   9.14   21.6\n",
              "2  0.02729   0.0   7.07   0.0  0.469  ...  242.0     17.8  392.83   4.03   34.7\n",
              "3  0.03237   0.0   2.18   0.0  0.458  ...  222.0     18.7  394.63   2.94   33.4\n",
              "4  0.06905   0.0   2.18   0.0  0.458  ...  222.0     18.7  396.90   5.33   36.2\n",
              "\n",
              "[5 rows x 14 columns]"
            ]
          },
          "metadata": {},
          "execution_count": 7
        }
      ]
    },
    {
      "cell_type": "markdown",
      "metadata": {
        "id": "6I--G-UvGZN0"
      },
      "source": [
        "Checking Number of Rows and Columns"
      ]
    },
    {
      "cell_type": "code",
      "metadata": {
        "colab": {
          "base_uri": "https://localhost:8080/"
        },
        "id": "HF9XZ76KGdp5",
        "outputId": "14827d9e-52f1-411e-f699-941da84d021a"
      },
      "source": [
        "house_df.shape"
      ],
      "execution_count": 8,
      "outputs": [
        {
          "output_type": "execute_result",
          "data": {
            "text/plain": [
              "(506, 14)"
            ]
          },
          "metadata": {},
          "execution_count": 8
        }
      ]
    },
    {
      "cell_type": "markdown",
      "metadata": {
        "id": "5f3_X1K0HNax"
      },
      "source": [
        "Checking for Missing Values"
      ]
    },
    {
      "cell_type": "code",
      "metadata": {
        "colab": {
          "base_uri": "https://localhost:8080/"
        },
        "id": "R0rIkPggHP1c",
        "outputId": "e676c772-ae8a-472a-dd5a-07791a349b76"
      },
      "source": [
        "house_df.isnull().sum()"
      ],
      "execution_count": 9,
      "outputs": [
        {
          "output_type": "execute_result",
          "data": {
            "text/plain": [
              "CRIM       0\n",
              "ZN         0\n",
              "INDUS      0\n",
              "CHAS       0\n",
              "NOX        0\n",
              "RM         0\n",
              "AGE        0\n",
              "DIS        0\n",
              "RAD        0\n",
              "TAX        0\n",
              "PTRATIO    0\n",
              "B          0\n",
              "LSTAT      0\n",
              "PRICE      0\n",
              "dtype: int64"
            ]
          },
          "metadata": {},
          "execution_count": 9
        }
      ]
    },
    {
      "cell_type": "markdown",
      "metadata": {
        "id": "ennO9ogXIIWj"
      },
      "source": [
        "Finding Correlation between features"
      ]
    },
    {
      "cell_type": "code",
      "metadata": {
        "id": "WBoaQ3wYHTm7"
      },
      "source": [
        "house_df_cor = house_df.corr()"
      ],
      "execution_count": 10,
      "outputs": []
    },
    {
      "cell_type": "code",
      "metadata": {
        "colab": {
          "base_uri": "https://localhost:8080/",
          "height": 597
        },
        "id": "UJlCPCqpIW6R",
        "outputId": "f483c994-ff38-454f-9563-2f1ac1c3282d"
      },
      "source": [
        "# Preparing the heatmap\n",
        "\n",
        "plt.figure(figsize=(10, 10))\n",
        "sns.heatmap(house_df_cor, cbar=True, square=True, fmt='.2f', annot=True, annot_kws={'size':8}, cmap='Reds')\n"
      ],
      "execution_count": 11,
      "outputs": [
        {
          "output_type": "execute_result",
          "data": {
            "text/plain": [
              "<matplotlib.axes._subplots.AxesSubplot at 0x7fa114fbc450>"
            ]
          },
          "metadata": {},
          "execution_count": 11
        },
        {
          "output_type": "display_data",
          "data": {
            "image/png": "[encoded data removed]",
            "text/plain": [
              "<Figure size 720x720 with 2 Axes>"
            ]
          },
          "metadata": {
            "needs_background": "light"
          }
        }
      ]
    },
    {
      "cell_type": "code",
      "metadata": {
        "id": "nK27e84IR-EH"
      },
      "source": [
        "house_df_drp = house_df.drop(['RAD'], axis=1)"
      ],
      "execution_count": 12,
      "outputs": []
    },
    {
      "cell_type": "code",
      "metadata": {
        "colab": {
          "base_uri": "https://localhost:8080/",
          "height": 206
        },
        "id": "sPYkuuhUSitX",
        "outputId": "53e8d284-82ef-44e7-8a98-6c0ed4018efb"
      },
      "source": [
        "house_df_drp.head()"
      ],
      "execution_count": 13,
      "outputs": [
        {
          "output_type": "execute_result",
          "data": {
            "text/html": [
              "<div>\n",
              "<style scoped>\n",
              "    .dataframe tbody tr th:only-of-type {\n",
              "        vertical-align: middle;\n",
              "    }\n",
              "\n",
              "    .dataframe tbody tr th {\n",
              "        vertical-align: top;\n",
              "    }\n",
              "\n",
              "    .dataframe thead th {\n",
              "        text-align: right;\n",
              "    }\n",
              "</style>\n",
              "<table border=\"1\" class=\"dataframe\">\n",
              "  <thead>\n",
              "    <tr style=\"text-align: right;\">\n",
              "      <th></th>\n",
              "      <th>CRIM</th>\n",
              "      <th>ZN</th>\n",
              "      <th>INDUS</th>\n",
              "      <th>CHAS</th>\n",
              "      <th>NOX</th>\n",
              "      <th>RM</th>\n",
              "      <th>AGE</th>\n",
              "      <th>DIS</th>\n",
              "      <th>TAX</th>\n",
              "      <th>PTRATIO</th>\n",
              "      <th>B</th>\n",
              "      <th>LSTAT</th>\n",
              "      <th>PRICE</th>\n",
              "    </tr>\n",
              "  </thead>\n",
              "  <tbody>\n",
              "    <tr>\n",
              "      <th>0</th>\n",
              "      <td>0.00632</td>\n",
              "      <td>18.0</td>\n",
              "      <td>2.31</td>\n",
              "      <td>0.0</td>\n",
              "      <td>0.538</td>\n",
              "      <td>6.575</td>\n",
              "      <td>65.2</td>\n",
              "      <td>4.0900</td>\n",
              "      <td>296.0</td>\n",
              "      <td>15.3</td>\n",
              "      <td>396.90</td>\n",
              "      <td>4.98</td>\n",
              "      <td>24.0</td>\n",
              "    </tr>\n",
              "    <tr>\n",
              "      <th>1</th>\n",
              "      <td>0.02731</td>\n",
              "      <td>0.0</td>\n",
              "      <td>7.07</td>\n",
              "      <td>0.0</td>\n",
              "      <td>0.469</td>\n",
              "      <td>6.421</td>\n",
              "      <td>78.9</td>\n",
              "      <td>4.9671</td>\n",
              "      <td>242.0</td>\n",
              "      <td>17.8</td>\n",
              "      <td>396.90</td>\n",
              "      <td>9.14</td>\n",
              "      <td>21.6</td>\n",
              "    </tr>\n",
              "    <tr>\n",
              "      <th>2</th>\n",
              "      <td>0.02729</td>\n",
              "      <td>0.0</td>\n",
              "      <td>7.07</td>\n",
              "      <td>0.0</td>\n",
              "      <td>0.469</td>\n",
              "      <td>7.185</td>\n",
              "      <td>61.1</td>\n",
              "      <td>4.9671</td>\n",
              "      <td>242.0</td>\n",
              "      <td>17.8</td>\n",
              "      <td>392.83</td>\n",
              "      <td>4.03</td>\n",
              "      <td>34.7</td>\n",
              "    </tr>\n",
              "    <tr>\n",
              "      <th>3</th>\n",
              "      <td>0.03237</td>\n",
              "      <td>0.0</td>\n",
              "      <td>2.18</td>\n",
              "      <td>0.0</td>\n",
              "      <td>0.458</td>\n",
              "      <td>6.998</td>\n",
              "      <td>45.8</td>\n",
              "      <td>6.0622</td>\n",
              "      <td>222.0</td>\n",
              "      <td>18.7</td>\n",
              "      <td>394.63</td>\n",
              "      <td>2.94</td>\n",
              "      <td>33.4</td>\n",
              "    </tr>\n",
              "    <tr>\n",
              "      <th>4</th>\n",
              "      <td>0.06905</td>\n",
              "      <td>0.0</td>\n",
              "      <td>2.18</td>\n",
              "      <td>0.0</td>\n",
              "      <td>0.458</td>\n",
              "      <td>7.147</td>\n",
              "      <td>54.2</td>\n",
              "      <td>6.0622</td>\n",
              "      <td>222.0</td>\n",
              "      <td>18.7</td>\n",
              "      <td>396.90</td>\n",
              "      <td>5.33</td>\n",
              "      <td>36.2</td>\n",
              "    </tr>\n",
              "  </tbody>\n",
              "</table>\n",
              "</div>"
            ],
            "text/plain": [
              "      CRIM    ZN  INDUS  CHAS    NOX  ...    TAX  PTRATIO       B  LSTAT  PRICE\n",
              "0  0.00632  18.0   2.31   0.0  0.538  ...  296.0     15.3  396.90   4.98   24.0\n",
              "1  0.02731   0.0   7.07   0.0  0.469  ...  242.0     17.8  396.90   9.14   21.6\n",
              "2  0.02729   0.0   7.07   0.0  0.469  ...  242.0     17.8  392.83   4.03   34.7\n",
              "3  0.03237   0.0   2.18   0.0  0.458  ...  222.0     18.7  394.63   2.94   33.4\n",
              "4  0.06905   0.0   2.18   0.0  0.458  ...  222.0     18.7  396.90   5.33   36.2\n",
              "\n",
              "[5 rows x 13 columns]"
            ]
          },
          "metadata": {},
          "execution_count": 13
        }
      ]
    },
    {
      "cell_type": "code",
      "metadata": {
        "colab": {
          "base_uri": "https://localhost:8080/"
        },
        "id": "MmAoJ812JNQf",
        "outputId": "92ceb646-4be0-4e2d-8303-4d769f18fb7d"
      },
      "source": [
        "X = house_df_drp.drop(['PRICE'], axis=1)\n",
        "Y = house_df_drp['PRICE']\n",
        "\n",
        "print(X)\n",
        "print(Y)"
      ],
      "execution_count": 14,
      "outputs": [
        {
          "output_type": "stream",
          "name": "stdout",
          "text": [
            "        CRIM    ZN  INDUS  CHAS    NOX  ...     DIS    TAX  PTRATIO       B  LSTAT\n",
            "0    0.00632  18.0   2.31   0.0  0.538  ...  4.0900  296.0     15.3  396.90   4.98\n",
            "1    0.02731   0.0   7.07   0.0  0.469  ...  4.9671  242.0     17.8  396.90   9.14\n",
            "2    0.02729   0.0   7.07   0.0  0.469  ...  4.9671  242.0     17.8  392.83   4.03\n",
            "3    0.03237   0.0   2.18   0.0  0.458  ...  6.0622  222.0     18.7  394.63   2.94\n",
            "4    0.06905   0.0   2.18   0.0  0.458  ...  6.0622  222.0     18.7  396.90   5.33\n",
            "..       ...   ...    ...   ...    ...  ...     ...    ...      ...     ...    ...\n",
            "501  0.06263   0.0  11.93   0.0  0.573  ...  2.4786  273.0     21.0  391.99   9.67\n",
            "502  0.04527   0.0  11.93   0.0  0.573  ...  2.2875  273.0     21.0  396.90   9.08\n",
            "503  0.06076   0.0  11.93   0.0  0.573  ...  2.1675  273.0     21.0  396.90   5.64\n",
            "504  0.10959   0.0  11.93   0.0  0.573  ...  2.3889  273.0     21.0  393.45   6.48\n",
            "505  0.04741   0.0  11.93   0.0  0.573  ...  2.5050  273.0     21.0  396.90   7.88\n",
            "\n",
            "[506 rows x 12 columns]\n",
            "0      24.0\n",
            "1      21.6\n",
            "2      34.7\n",
            "3      33.4\n",
            "4      36.2\n",
            "       ... \n",
            "501    22.4\n",
            "502    20.6\n",
            "503    23.9\n",
            "504    22.0\n",
            "505    11.9\n",
            "Name: PRICE, Length: 506, dtype: float64\n"
          ]
        }
      ]
    },
    {
      "cell_type": "markdown",
      "metadata": {
        "id": "KhcbPB23K3Qd"
      },
      "source": [
        "Splitting Dataset into Train and Test"
      ]
    },
    {
      "cell_type": "code",
      "metadata": {
        "id": "fhqtLFWJK7AR"
      },
      "source": [
        "X_train, X_test, Y_train, Y_test = train_test_split(X, Y, test_size = 0.2, random_state = 2)"
      ],
      "execution_count": 15,
      "outputs": []
    },
    {
      "cell_type": "markdown",
      "metadata": {
        "id": "8MpeNDBcLibm"
      },
      "source": [
        "Model Creation\n",
        "      \n",
        "      Linear Regression\n",
        "      XBGRegressor"
      ]
    },
    {
      "cell_type": "code",
      "metadata": {
        "id": "_lX68FtZLhFL"
      },
      "source": [
        "model_linear = LinearRegression()"
      ],
      "execution_count": 17,
      "outputs": []
    },
    {
      "cell_type": "code",
      "metadata": {
        "id": "DaU51gdlYFB2"
      },
      "source": [
        "model_xbgregressor = XGBRegressor()"
      ],
      "execution_count": 18,
      "outputs": []
    },
    {
      "cell_type": "markdown",
      "metadata": {
        "id": "CMc4Bv4sMH9I"
      },
      "source": [
        "Fit the model    Linear Regression"
      ]
    },
    {
      "cell_type": "code",
      "metadata": {
        "colab": {
          "base_uri": "https://localhost:8080/"
        },
        "id": "n0on1f3SMBAZ",
        "outputId": "43aa46f5-483f-49b0-fff4-bbab425c2c5e"
      },
      "source": [
        "# Linear Regression \n",
        "model_linear.fit(X_train, Y_train)"
      ],
      "execution_count": 19,
      "outputs": [
        {
          "output_type": "execute_result",
          "data": {
            "text/plain": [
              "LinearRegression(copy_X=True, fit_intercept=True, n_jobs=None, normalize=False)"
            ]
          },
          "metadata": {},
          "execution_count": 19
        }
      ]
    },
    {
      "cell_type": "markdown",
      "metadata": {
        "id": "-JMxFOhKVcfS"
      },
      "source": [
        "Fit the model XBGRegressor"
      ]
    },
    {
      "cell_type": "code",
      "metadata": {
        "colab": {
          "base_uri": "https://localhost:8080/"
        },
        "id": "LCt-AhBXVV00",
        "outputId": "5d2a0659-cc2c-4855-8fbd-66a9326d755e"
      },
      "source": [
        "# XGBRegressor \n",
        "model_xbgregressor.fit(X_train, Y_train)"
      ],
      "execution_count": 20,
      "outputs": [
        {
          "output_type": "stream",
          "name": "stdout",
          "text": [
            "[15:45:51] WARNING: /workspace/src/objective/regression_obj.cu:152: reg:linear is now deprecated in favor of reg:squarederror.\n"
          ]
        },
        {
          "output_type": "execute_result",
          "data": {
            "text/plain": [
              "XGBRegressor(base_score=0.5, booster='gbtree', colsample_bylevel=1,\n",
              "             colsample_bynode=1, colsample_bytree=1, gamma=0,\n",
              "             importance_type='gain', learning_rate=0.1, max_delta_step=0,\n",
              "             max_depth=3, min_child_weight=1, missing=None, n_estimators=100,\n",
              "             n_jobs=1, nthread=None, objective='reg:linear', random_state=0,\n",
              "             reg_alpha=0, reg_lambda=1, scale_pos_weight=1, seed=None,\n",
              "             silent=None, subsample=1, verbosity=1)"
            ]
          },
          "metadata": {},
          "execution_count": 20
        }
      ]
    },
    {
      "cell_type": "markdown",
      "metadata": {
        "id": "n9g0s9STOAat"
      },
      "source": [
        "**Model Evaluation**\n",
        "\n",
        "Prediction on training data"
      ]
    },
    {
      "cell_type": "code",
      "metadata": {
        "id": "SzhTeYSxMj3j"
      },
      "source": [
        "train_data_pre_linear = model_linear.predict(X_train)\n",
        "train_data_pre_xgbr = model_xbgregressor.predict(X_train)"
      ],
      "execution_count": 21,
      "outputs": []
    },
    {
      "cell_type": "code",
      "metadata": {
        "colab": {
          "base_uri": "https://localhost:8080/"
        },
        "id": "4ydNQJ3KPH8Y",
        "outputId": "c2b69681-5ddc-4732-b244-50e97457e03f"
      },
      "source": [
        "print(train_data_pre_linear)"
      ],
      "execution_count": 22,
      "outputs": [
        {
          "output_type": "stream",
          "name": "stdout",
          "text": [
            "[24.95892452 23.00582006 19.84268957 30.97993672 13.98648431 12.01026002\n",
            " 19.27743369 16.11357346 14.2975967  22.89807171 15.23572535 11.67016417\n",
            " 33.4000575  24.26514523 31.54839519 18.13931462 23.2851165  25.21399583\n",
            " 31.66525033 20.83424203 34.11442145  3.86773635 40.30610244 23.54419362\n",
            " 19.5578362  23.59531756 23.60285576 24.88139085 22.11785301 32.97651974\n",
            " 26.67497126  8.12863421 18.10154883  9.85535051 19.52924765 12.65305313\n",
            " 17.51592817 25.73369143 14.81159643 17.1414148  24.96754954 27.65640317\n",
            " 16.6057448  24.56239836 14.36404444 11.97999966 27.22918418 19.04031895\n",
            " 44.60658712 17.63845105 21.17484748 33.03064168 22.13641627 22.76433145\n",
            " 22.10832784 20.89983874 26.38221974 32.65082742 23.62118304 32.14196311\n",
            " 21.78719058 40.6906891  16.5041942   9.7998122  25.97980702 13.78442571\n",
            " 27.5442863  18.31415347 25.60680493 37.8409896  34.5854649  34.13893293\n",
            " 24.1591078  29.03771812 24.76514553 43.66304651 18.53919542 22.75103351\n",
            " 18.82627148 28.06072006 32.99493405 25.99091411 27.12670501 23.11578276\n",
            " 37.94831249 20.26342609 31.99189781 31.69388186 -4.34921721 20.40257369\n",
            " 17.34899677 10.56871489 24.10390845 39.64015691 33.78626832 17.6029954\n",
            " 33.87292857 16.18442254 11.28429105 29.28884312 23.0098357  24.06913443\n",
            " 20.65809845 17.78179114 23.76432577 26.74671431 16.48972515 33.39620263\n",
            " 25.27200608 13.10377706 22.13205777 17.84130246 20.21597832 21.76726802\n",
            " 22.9871341  15.83885303 18.38753665 18.43300461  9.29274111 34.97123095\n",
            " 14.45397915 36.25960947 35.61222882 21.58639666 18.35738177  7.52530381\n",
            " 11.21356444  9.52955172 16.81667658  9.79480484 24.5753278  15.57103118\n",
            " 19.53310203 35.74266428 27.06771472 21.71307826 29.50371417 25.73771915\n",
            " 31.6438982  27.26847407 17.51804092 11.65643198 41.50343766 22.89984114\n",
            " 16.2955564  12.72881888 38.0083606  31.84845116 12.17657216 21.42052556\n",
            " 24.66739795 32.46249682 27.92364315  5.57009568 26.04575042 26.83780893\n",
            " 28.40627691 -0.37450262 29.13904111 35.83413855 14.57411182 20.6492432\n",
            " 28.02176337 31.9253547  30.68409834 28.1250625  16.38328252 21.8089051\n",
            " 21.50086971 28.3695324  25.7036398  22.78119775 19.58835572 10.9373409\n",
            " 25.17263364 19.73706144 23.15918793 14.05705878 30.17299213 41.28215614\n",
            " 19.74745805 23.91110444 25.9461546  17.48700685 21.41500345 25.9502443\n",
            " 23.62786599 21.35826361 27.54299883 18.63704261 36.19828049 18.10748804\n",
            " 16.53245705 24.65012395 18.92379576 18.44353502 27.09856017 13.48016497\n",
            " 25.61528188 22.54735326 22.10804292 33.64165759 14.52724754 22.91855605\n",
            " 17.01193576 37.29371559 29.36410978 23.02385714 26.10767436 21.7522596\n",
            " 16.60062868 20.144799   23.34125394 22.19293356 16.12865557 14.76110756\n",
            " 19.27163624 23.59316314 15.56497024 18.98448876 19.69522363 21.55769661\n",
            " 15.04328271 12.30628264 24.3416502  22.18903095  8.33457629 29.35040543\n",
            " 32.10512231 25.99706801 12.84086886 17.91524923 38.28692605  9.77767554\n",
            " 26.2893792  20.86826517 33.226653   43.59198737 17.59973051 15.61521565\n",
            "  6.31638328 21.9888707  11.2117393  12.26209552 19.49826035 19.30685935\n",
            " 31.49102293 32.14087424 18.43648557 21.30996023 27.81816437 11.9873031\n",
            " 28.66691092 35.05706991 21.93196894 26.76344525 19.78819518 11.66224813\n",
            " 18.00814303 16.91510181 11.64667428 29.80172368 18.83440359 21.56981109\n",
            " 23.9663295  18.51929928 30.06503992 14.88766832 21.85062419 20.36632099\n",
            " 21.68817956 30.41689619 27.49165617 13.07851245 23.20006019 31.76025547\n",
            " 15.36316283 19.02573807 24.02066059 20.324376   29.59009773 34.37061295\n",
            " 10.52801969 27.91541698 17.95479337 16.60421494 13.11455608 29.48416953\n",
            " 13.1672956  35.9167786  20.04216445 38.03869     7.73740893 23.97487451\n",
            " 17.05941786 15.86759663 13.5096467  27.19096941 21.26016502 38.12628591\n",
            " 22.1742649  30.57639719 29.24577586 21.52932339 28.63819789 17.62953632\n",
            " 37.12430704 19.90654627 17.52063634 27.10567817 23.19272426 25.19088367\n",
            "  7.31862373 25.7227627  19.09384345 22.1042388  23.75397875 19.86350222\n",
            " 20.66394804 17.81316081 14.23364273 26.703951   14.83757906 24.71041088\n",
            " 23.62604112 17.72150965 16.23328105 26.23705437 24.14140702 25.61094356\n",
            " 24.99289873 24.96094189 14.68659147 18.52040321 24.25742287 23.76293437\n",
            "  4.85453659 21.18856575  7.34810336 17.37386451 19.88319206  9.07278911\n",
            " 36.96526899 26.3617177  15.50565354 17.03000968 16.84387649 27.75969316\n",
            " 16.72151112 17.34388894 12.29456439 20.17763341 21.49489425 20.48959011\n",
            " 27.81204329 27.03861004 28.41282101 15.69132027 18.93205151 19.90237307\n",
            " 17.31006512 22.70120518 14.55507789 28.05958868 36.85374445 31.90705402\n",
            " 24.71183793 19.43635398 22.27482747 17.01923049 20.82183748 14.88267275\n",
            " 22.7296156  18.84447559 23.38457596 20.67398303 14.99916019 34.8039302\n",
            " 20.95408672 40.11426474 23.24522847 24.88574758 24.8223155  17.92534782\n",
            "  7.64961045 24.74106215 25.99882913 21.59783265 17.60044828 24.78326626\n",
            " 22.32161627 29.60927197 16.20925605 42.36391613 34.47573751 22.5022816\n",
            " 24.64553676 13.13580624 32.19447239 16.51438792 24.32500036 21.57953996\n",
            " 20.08180874 26.76750706]\n"
          ]
        }
      ]
    },
    {
      "cell_type": "code",
      "metadata": {
        "colab": {
          "base_uri": "https://localhost:8080/"
        },
        "id": "cRImK7-uV10H",
        "outputId": "8f998974-1c1f-4273-8c31-5dfabe1a2481"
      },
      "source": [
        "print(train_data_pre_xgbr)"
      ],
      "execution_count": 23,
      "outputs": [
        {
          "output_type": "stream",
          "name": "stdout",
          "text": [
            "[23.459051  22.500284  21.189697  33.58715   15.35392   13.580703\n",
            " 21.957432  15.42741   11.891983  21.815624  16.241648   7.7644887\n",
            " 31.207037  48.74179   32.614674  20.792767  21.950304  20.684738\n",
            " 31.768343  20.491478  25.787714   8.481612  45.083153  21.930395\n",
            " 20.368475  20.086699  19.638725  26.195494  23.01299   31.954813\n",
            " 21.486446   9.244804  18.920538  21.604528  12.423259  10.289693\n",
            " 13.139927  23.674013  18.863703  15.928226  23.785234  28.254242\n",
            " 15.485361  18.239752  16.361376  14.110584  25.350868  17.612627\n",
            " 49.800785  17.156652  21.788952  32.858604  16.103704  22.594355\n",
            " 21.071926  19.710718  22.111246  38.364944  30.543423  32.71839\n",
            " 20.97701   47.64729   14.491605   8.035881  20.131233   8.824936\n",
            " 26.816822  17.943996  20.275393  46.464638  39.863705  34.15189\n",
            " 22.452507  34.556095  24.758394  49.944267  14.53296   20.503386\n",
            " 20.2222    23.052465  49.487606  23.404123  24.74246   20.469007\n",
            " 43.44735   17.078554  32.1025    34.73112    7.252245  20.22755\n",
            " 18.47909   12.142209  24.275229  47.804688  37.993702  20.64507\n",
            " 40.165855  18.43818   15.24374   26.143263  21.009775  20.355938\n",
            " 19.23772   17.226627  21.03732   22.826012  17.249706  32.619175\n",
            " 16.925953  12.898231  18.729843  20.656324  16.450058  20.593292\n",
            " 48.34112   15.490017  15.987148  18.766907  15.021139  32.992477\n",
            " 14.431537  43.59207   34.156433  19.315178  15.900228   9.410929\n",
            " 10.306184  14.862377  18.74679    8.857583  22.644007  11.151189\n",
            " 20.567755  49.147602  22.702267  19.959684  31.548098  21.881279\n",
            " 31.034216  30.558346  15.041496  15.973483  48.47192   21.252693\n",
            " 15.867413  12.640291  49.76147   31.479794  11.316877  20.231564\n",
            " 26.57573   32.773773  23.099678   9.53413   24.373247  24.299067\n",
            " 21.987965  14.654077  28.095665  33.599125  14.825268  18.893305\n",
            " 26.366865  32.80486   29.280867  23.56991   10.59001   22.380362\n",
            " 21.826527  35.33863   23.213745  20.401966  18.657614  10.316809\n",
            " 22.118406  17.943996  20.873266  11.836525  42.64034   47.075733\n",
            " 14.682519  20.459005  23.346571  15.422862  20.895826  23.621721\n",
            " 32.545425  21.251886  24.693438  18.665302  31.271948  14.258296\n",
            " 15.225022  22.082294  23.407797  17.366669  26.168634  24.581808\n",
            " 27.51117   23.289867  18.833906  28.710943  14.209122  20.139803\n",
            " 16.927917  42.94226   26.080559  21.75567   23.805897  18.667614\n",
            " 18.25497   20.4049    22.907322  24.983265  17.054806  14.860611\n",
            " 20.91733   21.520008  11.225195  18.242683  21.167513  20.928768\n",
            " 18.4869     8.99686   22.088127  20.75198   15.903696  24.269611\n",
            " 31.307686  22.712704  15.159118  19.82132   24.864557  22.667015\n",
            " 47.522957  19.831825  30.080982  49.83074   16.683922  16.21649\n",
            "  9.940447  20.388067  16.477802  14.581088  17.467403  19.322556\n",
            " 30.338127  27.177029  18.604107  20.104294  24.033434  10.221905\n",
            " 25.028374  48.463226  21.202883  23.369658  20.035025  11.877898\n",
            " 17.479536  15.046106  15.009215  23.609447  16.116447  21.137712\n",
            " 26.50613   16.946644  23.427168  14.976391  21.005556  19.479717\n",
            " 24.225012  27.453281  23.719704  17.71005   22.582542  25.744226\n",
            " 15.082539  18.30176   23.393295  16.494644  23.028778  30.538738\n",
            " 15.021139  24.467466  17.300451  14.577168  10.515669  24.814888\n",
            " 15.376108  38.73465   20.327364  42.06935    8.696517  22.51537\n",
            " 15.521744  15.558756  17.568407  23.758068  21.440632  46.11185\n",
            " 15.233261  30.996717  25.580002  18.823673  26.409918  11.742158\n",
            " 40.712334  20.648518  16.969252  24.85495   15.2048645 23.559725\n",
            "  8.481706  23.766027  19.588758  21.03277   23.657806  22.40297\n",
            " 17.65309   18.06718   14.965768  25.302053  13.511187  22.780884\n",
            " 20.667404  14.746466  16.35864   23.173176  24.758394  22.625586\n",
            " 23.182575  32.046318  19.353064  19.640259  27.834538  23.762957\n",
            " 12.800441  22.673883  12.095439  10.338506  20.599277  10.333121\n",
            " 45.834415  24.758394  12.548285  16.370127  14.371432  28.15113\n",
            " 18.484785  20.36384   10.31404   21.33059   20.935379  20.650162\n",
            " 23.626575  24.745762  26.978144  13.27184   18.582865  20.958437\n",
            " 18.75895   23.72797   13.290946  23.922768  33.007004  27.281744\n",
            " 25.411146  19.048378  20.975786  11.362329  22.850838  15.7698345\n",
            " 22.321396  20.7027    22.404379  17.758009  12.623092  35.081757\n",
            " 18.695866  48.896534  22.650236  24.187902  21.518692  19.522177\n",
            "  8.435575  20.453703  23.24048   21.59861   17.826588  24.806452\n",
            " 21.407555  26.427118  14.540814  49.39131   30.730106  23.02474\n",
            " 23.032896  16.800943  30.805754  16.599808  23.737476  21.267302\n",
            " 20.15061   22.702267 ]\n"
          ]
        }
      ]
    },
    {
      "cell_type": "markdown",
      "metadata": {
        "id": "ClNgA7jpWjxx"
      },
      "source": [
        "Evaluation for Linear Regression"
      ]
    },
    {
      "cell_type": "code",
      "metadata": {
        "colab": {
          "base_uri": "https://localhost:8080/"
        },
        "id": "JBIgRc9XPMh4",
        "outputId": "1a5a45c7-f4ca-4962-a482-0ffd46e0ac84"
      },
      "source": [
        "#  R square (coefficient of determination) regression score function.\n",
        "# sklearn.metrics.r2_score\n",
        "# sklearn.metrics.mean_absolute_error\n",
        "# sklearn.metrics.mean_squared_error\n",
        "\n",
        "score_linear_1 = metrics.r2_score(Y_train, train_data_pre_linear)\n",
        "score_linear_2 = metrics.mean_absolute_error(Y_train, train_data_pre_linear)\n",
        "\n",
        "print(\"R squared error for Linear Regression : \", score_linear_1)\n",
        "print(\"Mean Absolute Error Linear Regression : \", score_linear_2)"
      ],
      "execution_count": 24,
      "outputs": [
        {
          "output_type": "stream",
          "name": "stdout",
          "text": [
            "R squared error for Linear Regression :  0.7149187097459346\n",
            "Mean Absolute Error Linear Regression :  3.4005526763793137\n"
          ]
        }
      ]
    },
    {
      "cell_type": "markdown",
      "metadata": {
        "id": "HqrzKhaRWtDS"
      },
      "source": [
        "Evaluation for XGBRegression"
      ]
    },
    {
      "cell_type": "code",
      "metadata": {
        "colab": {
          "base_uri": "https://localhost:8080/"
        },
        "id": "Lf8biE3kW0Or",
        "outputId": "c6d3fa89-5f2f-4bfb-f13d-f9340cedf26a"
      },
      "source": [
        "#  R square (coefficient of determination) regression score function.\n",
        "# sklearn.metrics.r2_score\n",
        "# sklearn.metrics.mean_absolute_error\n",
        "# sklearn.metrics.mean_squared_error\n",
        "\n",
        "score_xgbr_1 = metrics.r2_score(Y_train, train_data_pre_xgbr)\n",
        "score_xgbr_2 = metrics.mean_absolute_error(Y_train, train_data_pre_xgbr)\n",
        "\n",
        "print(\"R squared error for XGBRegression : \", score_xgbr_1)\n",
        "print(\"Mean Absolute Error XGBRegression : \", score_xgbr_2)"
      ],
      "execution_count": 25,
      "outputs": [
        {
          "output_type": "stream",
          "name": "stdout",
          "text": [
            "R squared error for XGBRegression :  0.9723821370499433\n",
            "Mean Absolute Error XGBRegression :  1.1665079898173265\n"
          ]
        }
      ]
    },
    {
      "cell_type": "markdown",
      "metadata": {
        "id": "SrBgdq_YTvHG"
      },
      "source": [
        "Visualisation of Train dataset for Linear Regression"
      ]
    },
    {
      "cell_type": "code",
      "metadata": {
        "colab": {
          "base_uri": "https://localhost:8080/",
          "height": 295
        },
        "id": "7-cydMk4TKYm",
        "outputId": "8fcce4af-4c85-425f-913b-3ecc7d38bd2d"
      },
      "source": [
        "plt.scatter(Y_train, train_data_pre_linear)\n",
        "plt.xlabel('Actual Price')\n",
        "plt.ylabel('Predicted Price')\n",
        "plt.title(\"Linear Regression of Actual vs Predicted Price\")\n",
        "plt.show()"
      ],
      "execution_count": 27,
      "outputs": [
        {
          "output_type": "display_data",
          "data": {
            "image/png": "[encoded data removed]",
            "text/plain": [
              "<Figure size 432x288 with 1 Axes>"
            ]
          },
          "metadata": {
            "needs_background": "light"
          }
        }
      ]
    },
    {
      "cell_type": "markdown",
      "metadata": {
        "id": "2e3y8qbEXUDX"
      },
      "source": [
        "Visualisation of Train dataset for XGBRegressor"
      ]
    },
    {
      "cell_type": "code",
      "metadata": {
        "colab": {
          "base_uri": "https://localhost:8080/",
          "height": 295
        },
        "id": "N6hc_s_VUWgX",
        "outputId": "476c5353-63e3-4aa2-ce8c-e4cb00eed2b2"
      },
      "source": [
        "plt.scatter(Y_train, train_data_pre_xgbr)\n",
        "plt.xlabel('Actual Price')\n",
        "plt.ylabel('Predicted Price')\n",
        "plt.title(\"XGBRegressor of Actual vs Predicted Price\")\n",
        "plt.show()"
      ],
      "execution_count": 29,
      "outputs": [
        {
          "output_type": "display_data",
          "data": {
            "image/png": "[encoded data removed]",
            "text/plain": [
              "<Figure size 432x288 with 1 Axes>"
            ]
          },
          "metadata": {
            "needs_background": "light"
          }
        }
      ]
    },
    {
      "cell_type": "code",
      "metadata": {
        "id": "vP3cesloYgAS"
      },
      "source": [
        ""
      ],
      "execution_count": null,
      "outputs": []
    }
  ]
}